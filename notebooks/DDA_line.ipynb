{
 "metadata": {
  "language_info": {
   "codemirror_mode": {
    "name": "ipython",
    "version": 3
   },
   "file_extension": ".py",
   "mimetype": "text/x-python",
   "name": "python",
   "nbconvert_exporter": "python",
   "pygments_lexer": "ipython3",
   "version": "3.8.5"
  },
  "orig_nbformat": 2,
  "kernelspec": {
   "name": "python3",
   "display_name": "Python 3",
   "language": "python"
  }
 },
 "nbformat": 4,
 "nbformat_minor": 2,
 "cells": [
  {
   "cell_type": "code",
   "execution_count": 2,
   "metadata": {},
   "outputs": [
    {
     "output_type": "error",
     "ename": "ModuleNotFoundError",
     "evalue": "No module named 'graphics'",
     "traceback": [
      "\u001b[0;31m---------------------------------------------------------------------------\u001b[0m",
      "\u001b[0;31mModuleNotFoundError\u001b[0m                       Traceback (most recent call last)",
      "\u001b[0;32m<ipython-input-2-83d2cfd6474e>\u001b[0m in \u001b[0;36m<module>\u001b[0;34m\u001b[0m\n\u001b[0;32m----> 1\u001b[0;31m \u001b[0;32mfrom\u001b[0m \u001b[0mgraphics\u001b[0m \u001b[0;32mimport\u001b[0m \u001b[0;34m*\u001b[0m\u001b[0;34m\u001b[0m\u001b[0;34m\u001b[0m\u001b[0m\n\u001b[0m\u001b[1;32m      2\u001b[0m \u001b[0;32mfrom\u001b[0m \u001b[0mmath\u001b[0m \u001b[0;32mimport\u001b[0m \u001b[0mfloor\u001b[0m\u001b[0;34m\u001b[0m\u001b[0;34m\u001b[0m\u001b[0m\n\u001b[1;32m      3\u001b[0m \u001b[0;34m\u001b[0m\u001b[0m\n\u001b[1;32m      4\u001b[0m \u001b[0mwindow\u001b[0m \u001b[0;34m=\u001b[0m \u001b[0mGraphWin\u001b[0m\u001b[0;34m(\u001b[0m\u001b[0;34m'DDA Line'\u001b[0m\u001b[0;34m,\u001b[0m\u001b[0;36m750\u001b[0m\u001b[0;34m,\u001b[0m\u001b[0;36m750\u001b[0m\u001b[0;34m)\u001b[0m\u001b[0;34m\u001b[0m\u001b[0;34m\u001b[0m\u001b[0m\n\u001b[1;32m      5\u001b[0m \u001b[0mwindow\u001b[0m\u001b[0;34m.\u001b[0m\u001b[0msetBackground\u001b[0m\u001b[0;34m(\u001b[0m\u001b[0;34m'black'\u001b[0m\u001b[0;34m)\u001b[0m\u001b[0;34m\u001b[0m\u001b[0;34m\u001b[0m\u001b[0m\n",
      "\u001b[0;31mModuleNotFoundError\u001b[0m: No module named 'graphics'"
     ]
    }
   ],
   "source": [
    "from graphics import *\n",
    "from math import floor\n",
    "\n",
    "window = GraphWin('DDA Line',750,750) \n",
    "window.setBackground('black')\n",
    "label = Text(Point(300,100),\"Click on two different points to get a DDA line.\")\n",
    "label.draw(window)\n",
    "\n",
    "def draw_DDA_line( x1, y1, x2, y2):\n",
    "    # calc change in x and y\n",
    "    x_delta = x2 - x1 \n",
    "    y_delta = y2 - y1 \n",
    "\n",
    "    # calc slope\n",
    "    m = y_delta / x_delta \n",
    "\n",
    "    # if slope (m) is <= 1 set steps to x_delta\n",
    "    if abs(x_delta) >= abs(y_delta):\n",
    "        steps = x_delta \n",
    "  \n",
    "    # if slope (m) is > 1 set steps to y_delta\n",
    "    else:\n",
    "        steps = y_delta \n",
    "\n",
    "    steps = abs(steps);\n",
    "\n",
    "    x=x1;\n",
    "    y=y1;\n",
    "\n",
    "    point_1 = Point(floor(x1 + 0.5), floor(y1 + 0.5))\n",
    "    point_1.draw(window) \n",
    "\n",
    "    point_2 = Point(floor(x2 + 0.5), floor(y2 + 0.5))\n",
    "    point_2.draw(window)\n",
    "\n",
    "    # calculate x increment and y increment\n",
    "    x_inc = x_delta / steps;\n",
    "    y_inc = y_delta / steps;\n",
    "\n",
    "    # draw line by incrementing \n",
    "    # x and y until step is reached\n",
    " \n",
    "    while steps >= 0:\n",
    "        x = x_inc + x\n",
    "        y = y_inc + y\n",
    "   \n",
    "        pt = Point(floor(x + 0.5), floor(y + 0.5))\n",
    "        pt.setFill(\"white\")\n",
    "        pt.draw(window)\n",
    "        steps -= 1\n",
    "\n",
    "\n",
    "\n",
    "\n",
    "def ask_for_coords():\n",
    "    \"\"\"Function to capture points from user\"\"\"\n",
    "    point_1 = window.getMouse()\n",
    "    point_2 = window.getMouse()\n",
    "    return point_1.getX() , point_1.getY(), point_2.getX() , point_2.getY();\n",
    "\n",
    "# ask for two points, ask again if x1 == x2. \n",
    "# this filters out vertical lines\n",
    "x_initial,y_initial,x_final,y_final = ask_for_coords()\n",
    "while  x_initial == x_final:\n",
    "    x_initial,y_initial,x_final,y_final = ask_for_coords()\n",
    "\n",
    "\n",
    "draw_DDA_line(x_initial,y_initial,x_final,y_final)\n",
    "\n",
    "\n",
    "window.getMouse()\n",
    "window.close()"
   ]
  }
 ]
}